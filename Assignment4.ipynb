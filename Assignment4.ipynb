{
 "cells": [
  {
   "cell_type": "code",
   "execution_count": 1,
   "id": "cd3a77fe",
   "metadata": {},
   "outputs": [],
   "source": [
    "import numpy as np\n",
    "import random\n",
    "import math\n",
    "import matplotlib.pyplot as plt"
   ]
  },
  {
   "cell_type": "code",
   "execution_count": 2,
   "id": "b3a00e88",
   "metadata": {},
   "outputs": [
    {
     "data": {
      "text/plain": [
       "0.6666666865348816"
      ]
     },
     "execution_count": 2,
     "metadata": {},
     "output_type": "execute_result"
    }
   ],
   "source": [
    "# Code for my formula\n",
    "def add():\n",
    "    sum1 = 0\n",
    "    sum2 = 0\n",
    "    for i in range(0,9):\n",
    "        sum1+= (math.factorial(24-i)/(math.factorial(24-2*i)*math.factorial(i)))*(1/2)**(24-i)\n",
    "    for j in range(0,4):\n",
    "        sum2+= (math.factorial(12+j)/(math.factorial(12-j)*math.factorial(2*j)))*(1/2)**(12+j)\n",
    "    return sum1 + sum2\n",
    "add()"
   ]
  },
  {
   "cell_type": "code",
   "execution_count": 3,
   "id": "4504a240",
   "metadata": {},
   "outputs": [
    {
     "data": {
      "image/png": "[encoded data removed]",
      "text/plain": [
       "<Figure size 432x288 with 1 Axes>"
      ]
     },
     "metadata": {
      "needs_background": "light"
     },
     "output_type": "display_data"
    },
    {
     "data": {
      "text/plain": [
       "0.6666666567325592"
      ]
     },
     "execution_count": 3,
     "metadata": {},
     "output_type": "execute_result"
    }
   ],
   "source": [
    "# Plot recurrence relation\n",
    "%matplotlib inline\n",
    "\n",
    "A = np.array([1])\n",
    "for i in np.arange(1,26):\n",
    "    a = 1-0.5*A[i-1]\n",
    "    A = np.append(A,a)\n",
    "\n",
    "plt.semilogy(A)\n",
    "plt.grid('on')\n",
    "plt.show()\n",
    "A[25]"
   ]
  },
  {
   "cell_type": "code",
   "execution_count": null,
   "id": "fbc89d71",
   "metadata": {},
   "outputs": [],
   "source": []
  }
 ],
 "metadata": {
  "kernelspec": {
   "display_name": "Python 3 (ipykernel)",
   "language": "python",
   "name": "python3"
  },
  "language_info": {
   "codemirror_mode": {
    "name": "ipython",
    "version": 3
   },
   "file_extension": ".py",
   "mimetype": "text/x-python",
   "name": "python",
   "nbconvert_exporter": "python",
   "pygments_lexer": "ipython3",
   "version": "3.9.7"
  }
 },
 "nbformat": 4,
 "nbformat_minor": 5
}
