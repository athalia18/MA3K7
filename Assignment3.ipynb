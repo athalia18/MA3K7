{
 "cells": [
  {
   "cell_type": "code",
   "execution_count": 1,
   "id": "c28f9d40",
   "metadata": {},
   "outputs": [],
   "source": [
    "import numpy as np\n",
    "import matplotlib.pyplot as plt\n",
    "import random"
   ]
  },
  {
   "cell_type": "code",
   "execution_count": 2,
   "id": "34c97742",
   "metadata": {},
   "outputs": [
    {
     "data": {
      "text/plain": [
       "[88]"
      ]
     },
     "execution_count": 2,
     "metadata": {},
     "output_type": "execute_result"
    }
   ],
   "source": [
    "#Creating a function inputting n and returning a final value \n",
    "rng = np.random.default_rng()\n",
    "def card(n):\n",
    "    arr = [] \n",
    "#Creating an array of n natural numbers 1 to n    \n",
    "    for i in range(1,n+1):\n",
    "        arr.append(i)\n",
    "#Adding conditions of hat game    \n",
    "    while len(arr) > 1:\n",
    "        a = random.choice(arr)\n",
    "        arr.remove(a)\n",
    "        b = random.choice(arr)\n",
    "        arr.remove(b)\n",
    "        c = abs(a - b)\n",
    "        arr.append(c)\n",
    "    return arr\n",
    "\n",
    "card(2024)"
   ]
  },
  {
   "cell_type": "code",
   "execution_count": 3,
   "id": "45a8f2fa",
   "metadata": {},
   "outputs": [
    {
     "name": "stdout",
     "output_type": "stream",
     "text": [
      "Using matplotlib backend: Qt5Agg\n"
     ]
    }
   ],
   "source": [
    "%matplotlib\n",
    "#Histogram for various final values for n = 12\n",
    "n = 12\n",
    "arr1 = []\n",
    "rng = np.random.default_rng()\n",
    "arr = 1e5\n",
    "#Adding results from card function to array\n",
    "for i in np.arange(arr):    \n",
    "    arr1.append(card(n)[0])\n",
    "#Finding min and max and creating histogram from this   \n",
    "Min = min(arr1)\n",
    "Max = max(arr1)  \n",
    "bins = np.arange(Min, Max+2)-0.5\n",
    "fig, ax = plt.subplots(1,1)\n",
    "Data, _, _=ax.hist(arr1, bins, color ='teal', density=True, rwidth=0.8)\n",
    "ax.set_xlabel('Final value for n = 12')\n",
    "ax.set_ylabel('Probability distribution')\n",
    "ax.set_xlim(Min-1, Max+1)\n",
    "ax.set_xticks(np.arange(Min,Max+1))\n",
    "plt.grid('on')\n",
    "plt.show()"
   ]
  },
  {
   "cell_type": "code",
   "execution_count": null,
   "id": "8fcb54ea",
   "metadata": {},
   "outputs": [],
   "source": []
  }
 ],
 "metadata": {
  "kernelspec": {
   "display_name": "Python 3 (ipykernel)",
   "language": "python",
   "name": "python3"
  },
  "language_info": {
   "codemirror_mode": {
    "name": "ipython",
    "version": 3
   },
   "file_extension": ".py",
   "mimetype": "text/x-python",
   "name": "python",
   "nbconvert_exporter": "python",
   "pygments_lexer": "ipython3",
   "version": "3.9.7"
  }
 },
 "nbformat": 4,
 "nbformat_minor": 5
}
