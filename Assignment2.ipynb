{
 "cells": [
  {
   "cell_type": "code",
   "execution_count": 1,
   "id": "39c2d1fe",
   "metadata": {},
   "outputs": [
    {
     "name": "stderr",
     "output_type": "stream",
     "text": [
      "C:\\Users\\athal\\anaconda3\\lib\\site-packages\\scipy\\__init__.py:146: UserWarning: A NumPy version >=1.16.5 and <1.23.0 is required for this version of SciPy (detected version 1.26.2\n",
      "  warnings.warn(f\"A NumPy version >={np_minversion} and <{np_maxversion}\"\n"
     ]
    }
   ],
   "source": [
    "import numpy as np\n",
    "import matplotlib.pyplot as plt\n",
    "import scipy.linalg as LA"
   ]
  },
  {
   "cell_type": "code",
   "execution_count": null,
   "id": "7167bc96",
   "metadata": {},
   "outputs": [],
   "source": [
    "%matplotlib\n",
    "#Histogram for Determinants for matrices in entries 0 and/or 1\n",
    "n = 10\n",
    "det = []\n",
    "rng = np.random.default_rng()\n",
    "arr = 1e5\n",
    "#Creating a n x n matrix of 0 and 1 and calculating determinant \n",
    "for i in np.arange(arr):    \n",
    "    A=rng.integers(0,2, (n,n))\n",
    "    detA = LA.det(A)\n",
    "    det.append(detA)\n",
    "#Finding min and max and creating histogram from this   \n",
    "Min = min(det)\n",
    "Max = max(det)  \n",
    "bins = np.arange(Min, Max+2)-0.5\n",
    "fig, ax = plt.subplots(1,1)\n",
    "Data, _, _=ax.hist(det, bins, color ='teal', density=True, rwidth=0.8)\n",
    "ax.set_xlabel('Det 10 x 10 matrices')\n",
    "ax.set_ylabel('Probability distribution')\n",
    "ax.set_xlim(Min-1, Max+1)\n",
    "ax.set_xticks(np.arange(Min,Max+1))\n",
    "plt.grid('on')\n",
    "plt.show()"
   ]
  },
  {
   "cell_type": "code",
   "execution_count": null,
   "id": "db5e0163",
   "metadata": {},
   "outputs": [],
   "source": [
    "%matplotlib\n",
    "#Analogous to above except dimension is 6\n",
    "n = 6\n",
    "det = []\n",
    "rng = np.random.default_rng()\n",
    "arr = 1e5\n",
    "\n",
    "for i in np.arange(arr):    \n",
    "    A=rng.integers(0,2, (n,n))\n",
    "    detA = LA.det(A)\n",
    "    det.append(detA)\n",
    "    \n",
    "Min = min(det)\n",
    "Max = max(det)  \n",
    "bins = np.arange(Min, Max+2)-0.5\n",
    "fig, ax = plt.subplots(1,1)\n",
    "Data, _, _=ax.hist(det, bins, color ='teal', density=True, rwidth=0.8)\n",
    "ax.set_xlabel('Det 6 x 6 matrices')\n",
    "ax.set_ylabel('Probability distribution')\n",
    "ax.set_xlim(Min-1, Max+1)\n",
    "ax.set_xticks(np.arange(Min,Max+1))\n",
    "plt.grid('on')\n",
    "plt.show()"
   ]
  },
  {
   "cell_type": "code",
   "execution_count": null,
   "id": "9b566f21",
   "metadata": {},
   "outputs": [],
   "source": [
    "%matplotlib\n",
    "\n",
    "n = 4\n",
    "det = []\n",
    "rng = np.random.default_rng()\n",
    "arr = 1e5\n",
    "#Generating values between 1 and 4 for matric entries- used for Extend portion\n",
    "for i in np.arange(arr):    \n",
    "    A=rng.integers(1,5, (n,n))\n",
    "    detA = LA.det(A)\n",
    "    det.append(detA)\n",
    "    \n",
    "Min = min(det)\n",
    "Max = max(det)  \n",
    "bins = np.arange(Min, Max+2)-0.5\n",
    "fig, ax = plt.subplots(1,1)\n",
    "Data, _, _=ax.hist(det, bins, color ='teal', density=True, rwidth=0.8)\n",
    "ax.set_xlabel('Det 4 x 4 matrices')\n",
    "ax.set_ylabel('Probability distribution')\n",
    "ax.set_xlim(Min-1, Max+1)\n",
    "ax.set_xticks(np.arange(Min,Max+1))\n",
    "plt.grid('on')\n",
    "plt.show()"
   ]
  },
  {
   "cell_type": "code",
   "execution_count": 2,
   "id": "951e735a",
   "metadata": {},
   "outputs": [],
   "source": [
    "#Determinant game attempt\n",
    "def game():\n",
    "#Inputting size of board\n",
    "    n = int(input(\"What is the size of your board? \"))\n",
    "    gamemat = np.full((n,n),'x',dtype = str)#Deciding which player begins\n",
    "    fplayer = int(input('Which Player begins? ')) \n",
    "    player = fplayer \n",
    "    \n",
    "    while not np.all(gamemat != 'x'):\n",
    "#Conditioning on input of user\n",
    "        if player == int(0):\n",
    "            print('Player 0 turn')\n",
    "        elif player == int(1):\n",
    "            print('Player 1 turn')\n",
    "#If options valid then entering the value into matrix\n",
    "        try:\n",
    "            row = int(input(\"Enter row value \"))\n",
    "            col = int(input(\"Enter column value \"))\n",
    "            if 1 <= int(row) <= n and 1 <= int(col) <= n and gamemat[row - 1,col - 1] == 'x':\n",
    "                gamemat[row - 1, col - 1] = player\n",
    "#Using integer values to place into matrix\n",
    "                player = int(not player) \n",
    "            else:\n",
    "                print(\"Invalid values, please try again \")\n",
    "        except ValueError:\n",
    "            print(\"Invalid entry, please try again \")\n",
    "            \n",
    "        print(gamemat)\n",
    "#Checking out determinant            \n",
    "    if LA.det(gamemat) == 0:\n",
    "        print('Player 0 wins')\n",
    "    else:\n",
    "        print('Player 1 wins')\n",
    "#Needs a condition for wrong Player no. input        "
   ]
  },
  {
   "cell_type": "code",
   "execution_count": null,
   "id": "42479e23",
   "metadata": {},
   "outputs": [],
   "source": [
    "game()"
   ]
  },
  {
   "cell_type": "code",
   "execution_count": null,
   "id": "37ec6d39",
   "metadata": {},
   "outputs": [],
   "source": []
  }
 ],
 "metadata": {
  "kernelspec": {
   "display_name": "Python 3 (ipykernel)",
   "language": "python",
   "name": "python3"
  },
  "language_info": {
   "codemirror_mode": {
    "name": "ipython",
    "version": 3
   },
   "file_extension": ".py",
   "mimetype": "text/x-python",
   "name": "python",
   "nbconvert_exporter": "python",
   "pygments_lexer": "ipython3",
   "version": "3.9.7"
  }
 },
 "nbformat": 4,
 "nbformat_minor": 5
}
