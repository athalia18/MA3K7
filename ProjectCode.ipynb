{
 "cells": [
  {
   "cell_type": "code",
   "execution_count": null,
   "id": "2d3212db",
   "metadata": {},
   "outputs": [],
   "source": [
    "import numpy as np"
   ]
  },
  {
   "cell_type": "code",
   "execution_count": null,
   "id": "b5f1547f",
   "metadata": {},
   "outputs": [],
   "source": [
    "#Game Code for 6 glasses\n",
    "def game():\n",
    "    arr = np.zeros(6)\n",
    "#Player A's turn\n",
    "    for i in range(6): \n",
    "        class ValueError(Exception):\n",
    "            pass\n",
    "#Selecting the inputs for each entry\n",
    "        while arr[i] < 1:\n",
    "            try:\n",
    "                x1 = float(input(\"How much does Player 1 place in Glass 1? \"))\n",
    "                if x1 <= 0.5:\n",
    "                    arr[0] += (x1)\n",
    "                else: \n",
    "                    raise ValueError()\n",
    "                \n",
    "                x2 = float(input(\"How much does Player 1 place in Glass 2? \"))\n",
    "                if x1 + x2 <= 0.5:\n",
    "                    arr[1] += (x2)\n",
    "                else: \n",
    "                    raise ValueError()\n",
    "                \n",
    "                x3 = float(input(\"How much does Player 1 place in Glass 3? \"))\n",
    "                if x1 + x2 + x3<= 0.5:\n",
    "                    arr[2] += x3\n",
    "                else: \n",
    "                    raise ValueError()\n",
    "                \n",
    "                x4 = float(input(\"How much does Player 1 place in Glass 4? \"))\n",
    "                if x1 + x2 + x3 + x4<= 0.5:\n",
    "                    arr[3] += x4\n",
    "                else: \n",
    "                    raise ValueError()\n",
    "                \n",
    "                x5 = float(input(\"How much does Player 1 place in Glass 5? \"))\n",
    "                if x1 + x2 + x3 + x4 + x5<= 0.5:\n",
    "                    arr[4] += x5\n",
    "                else: \n",
    "                    raise ValueError()\n",
    "                \n",
    "                x6 = float(input(\"How much does Player 1 place in Glass 6? \"))\n",
    "                if x1 + x2 + x3 + x4 + x5 + x6 <= 0.5:\n",
    "                    arr[5] += x6\n",
    "                else: \n",
    "                    raise ValueError()\n",
    "                print(arr)\n",
    "                if any(arr[i] > 1 for i in range(6)):\n",
    "                    print(\"Player A wins\")\n",
    "# Player B's turn                \n",
    "                r1 = int(input(\"First glass to remove \" ))\n",
    "                r2 = int(input(\"Second glass to remove \" ))\n",
    "                if abs(r1 - r2) == 1:\n",
    "                    arr[(r1-1)] = float(0)\n",
    "                    arr[(r2 - 1)] = float(0)\n",
    "                else:\n",
    "                    raise ValueError()\n",
    "            except ValueError:\n",
    "                print(\"Invalid Entry please try again\")\n",
    "            \n",
    "            print(arr)\n",
    "            "
   ]
  },
  {
   "cell_type": "code",
   "execution_count": null,
   "id": "b0ab457a",
   "metadata": {},
   "outputs": [],
   "source": [
    "game()"
   ]
  }
 ],
 "metadata": {
  "kernelspec": {
   "display_name": "Python 3 (ipykernel)",
   "language": "python",
   "name": "python3"
  },
  "language_info": {
   "codemirror_mode": {
    "name": "ipython",
    "version": 3
   },
   "file_extension": ".py",
   "mimetype": "text/x-python",
   "name": "python",
   "nbconvert_exporter": "python",
   "pygments_lexer": "ipython3",
   "version": "3.9.7"
  }
 },
 "nbformat": 4,
 "nbformat_minor": 5
}
