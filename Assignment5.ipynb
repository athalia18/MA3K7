{
 "cells": [
  {
   "cell_type": "code",
   "execution_count": 1,
   "id": "db8041da",
   "metadata": {},
   "outputs": [],
   "source": [
    "import numpy as np"
   ]
  },
  {
   "cell_type": "code",
   "execution_count": 6,
   "id": "37668628",
   "metadata": {},
   "outputs": [
    {
     "name": "stdout",
     "output_type": "stream",
     "text": [
      "What square would you like to calculate?10000\n"
     ]
    },
    {
     "data": {
      "text/plain": [
       "[5001.0, 5001.0, -5000.0]"
      ]
     },
     "execution_count": 6,
     "metadata": {},
     "output_type": "execute_result"
    }
   ],
   "source": [
    "def position_square():\n",
    "    #Input for the square\n",
    "    n = int(input(\"What square would you like to calculate?\" ))\n",
    "    arr = []\n",
    "    # Case for n odd\n",
    "    if n % 2 == 1:\n",
    "        square = (n + 1)/2\n",
    "        arr.append(square)\n",
    "        row = -((n+1)/2)\n",
    "        arr.append(row)\n",
    "        column = (n+1)/2\n",
    "        arr.append(column)\n",
    "        return arr\n",
    "    # Case for n even\n",
    "    else:\n",
    "        square = (n/2) + 1\n",
    "        arr.append(square)\n",
    "        row = (n/2) + 1\n",
    "        arr.append(row)\n",
    "        column = -(n/2)\n",
    "        arr.append(column)\n",
    "        return arr\n",
    "\n",
    "position_square()    \n",
    "    "
   ]
  },
  {
   "cell_type": "code",
   "execution_count": null,
   "id": "15b79e31",
   "metadata": {},
   "outputs": [],
   "source": []
  }
 ],
 "metadata": {
  "kernelspec": {
   "display_name": "Python 3 (ipykernel)",
   "language": "python",
   "name": "python3"
  },
  "language_info": {
   "codemirror_mode": {
    "name": "ipython",
    "version": 3
   },
   "file_extension": ".py",
   "mimetype": "text/x-python",
   "name": "python",
   "nbconvert_exporter": "python",
   "pygments_lexer": "ipython3",
   "version": "3.9.7"
  }
 },
 "nbformat": 4,
 "nbformat_minor": 5
}
